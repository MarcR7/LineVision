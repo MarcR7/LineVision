{
 "cells": [
  {
   "cell_type": "code",
   "execution_count": 1,
   "id": "7ce54f2f",
   "metadata": {},
   "outputs": [],
   "source": [
    "import cv2\n",
    "import numpy as np\n",
    "import random\n",
    "import tensorflow as tf"
   ]
  },
  {
   "cell_type": "code",
   "execution_count": 2,
   "id": "e412f58e",
   "metadata": {},
   "outputs": [],
   "source": [
    "# Basic parameters\n",
    "image_width = 64\n",
    "image_height = 64\n",
    "num_images = 10000\n",
    "line_min_length = 10\n",
    "\n",
    "# Lists of train, test, validation images and labels\n",
    "train_images = []\n",
    "train_labels = []\n",
    "test_images = []\n",
    "test_labels = []\n",
    "val_images = []\n",
    "val_labels = []\n",
    "\n",
    "\n",
    "# Generating images and labels\n",
    "for i in range(num_images):\n",
    "    # White background\n",
    "    image = np.ones((image_height, image_width, 1), dtype=np.uint8) * 255\n",
    "    \n",
    "    # Generating coordinates\n",
    "    x_start = random.randint(line_min_length + 1, image_width - line_min_length -1)\n",
    "    y_start = random.randint(line_min_length + 1, image_height - line_min_length -1)\n",
    "    x_end = random.choice([random.randint(0, x_start - line_min_length), random.randint(x_start + line_min_length, image_width-1)])\n",
    "    y_end = random.choice([random.randint(0, y_start - line_min_length), random.randint(y_start + line_min_length, image_width-1)])\n",
    "    \n",
    "    # Drawing a line\n",
    "    image = cv2.line(image, (x_start, y_start), (x_end, y_end), (0, 0, 0), 1)\n",
    "    \n",
    "    # Processing the data for CNN and standarization\n",
    "    image = image.astype('float32') / 255.0\n",
    "    \n",
    "    \n",
    "    # Spliting the dataset\n",
    "    if i < 0.8 * num_images:\n",
    "        train_images.append(image)\n",
    "        train_labels.append([x_start, y_start, x_end, y_end])\n",
    "    elif i < 0.9 * num_images:\n",
    "        val_images.append(image)\n",
    "        val_labels.append([x_start, y_start, x_end, y_end])\n",
    "    else:\n",
    "        test_images.append(image)\n",
    "        test_labels.append([x_start, y_start, x_end, y_end])\n",
    "        \n",
    "    \n",
    "# Conversion to numpy arrays\n",
    "train_images = np.array(train_images)\n",
    "train_labels = np.array(train_labels)\n",
    "val_images = np.array(val_images)\n",
    "val_labels = np.array(val_labels)\n",
    "test_images = np.array(test_images)\n",
    "test_labels = np.array(test_labels)"
   ]
  },
  {
   "cell_type": "code",
   "execution_count": 3,
   "id": "fad45eff",
   "metadata": {},
   "outputs": [],
   "source": [
    "# Creating the model\n",
    "model = tf.keras.models.Sequential([\n",
    "    tf.keras.layers.Conv2D(64, (3, 3), activation='relu', input_shape=(image_height, image_width, 1)),\n",
    "    tf.keras.layers.MaxPooling2D((2, 2)),\n",
    "    tf.keras.layers.Conv2D(64, (3, 3), activation='relu'),\n",
    "    tf.keras.layers.MaxPooling2D((2, 2)),\n",
    "    tf.keras.layers.Flatten(),\n",
    "    tf.keras.layers.Dense(64, activation='relu'),\n",
    "    tf.keras.layers.Dense(4)  \n",
    "])\n"
   ]
  },
  {
   "cell_type": "code",
   "execution_count": 4,
   "id": "fcbd26f9",
   "metadata": {
    "scrolled": true
   },
   "outputs": [
    {
     "name": "stdout",
     "output_type": "stream",
     "text": [
      "Epoch 1/10\n",
      "250/250 [==============================] - 54s 213ms/step - loss: 237.2502 - accuracy: 0.5562 - val_loss: 77.9733 - val_accuracy: 0.7840\n",
      "Epoch 2/10\n",
      "250/250 [==============================] - 52s 209ms/step - loss: 65.4510 - accuracy: 0.7844 - val_loss: 51.1140 - val_accuracy: 0.8100\n",
      "Epoch 3/10\n",
      "250/250 [==============================] - 50s 200ms/step - loss: 46.2727 - accuracy: 0.8117 - val_loss: 37.3528 - val_accuracy: 0.8470\n",
      "Epoch 4/10\n",
      "250/250 [==============================] - 54s 218ms/step - loss: 35.3596 - accuracy: 0.8424 - val_loss: 32.6392 - val_accuracy: 0.8560\n",
      "Epoch 5/10\n",
      "250/250 [==============================] - 58s 230ms/step - loss: 31.3621 - accuracy: 0.8569 - val_loss: 30.1381 - val_accuracy: 0.8570\n",
      "Epoch 6/10\n",
      "250/250 [==============================] - 57s 226ms/step - loss: 29.5961 - accuracy: 0.8608 - val_loss: 29.8843 - val_accuracy: 0.8510\n",
      "Epoch 7/10\n",
      "250/250 [==============================] - 51s 205ms/step - loss: 28.1814 - accuracy: 0.8674 - val_loss: 27.6621 - val_accuracy: 0.8640\n",
      "Epoch 8/10\n",
      "250/250 [==============================] - 52s 210ms/step - loss: 26.8755 - accuracy: 0.8748 - val_loss: 26.2862 - val_accuracy: 0.8670\n",
      "Epoch 9/10\n",
      "250/250 [==============================] - 51s 206ms/step - loss: 25.9606 - accuracy: 0.8712 - val_loss: 25.8963 - val_accuracy: 0.8730\n",
      "Epoch 10/10\n",
      "250/250 [==============================] - 55s 218ms/step - loss: 24.9928 - accuracy: 0.8766 - val_loss: 26.3769 - val_accuracy: 0.8780\n",
      "32/32 [==============================] - 2s 49ms/step - loss: 28.6936 - accuracy: 0.8620\n",
      "Test Loss: 28.6936\n",
      "Test Accuracy: 86.20%\n"
     ]
    }
   ],
   "source": [
    "# Compiling the model\n",
    "model.compile(optimizer='adam',\n",
    "              loss='mean_squared_error',\n",
    "              metrics=['accuracy'])\n",
    "\n",
    "# Model training\n",
    "model.fit(train_images, train_labels, epochs=10, batch_size=32, validation_data=(val_images, val_labels))\n",
    "\n",
    "\n",
    "# Evaluation of the model using test dataset\n",
    "test_loss, test_accuracy = model.evaluate(test_images, test_labels)\n",
    "test_accuracy_percent = test_accuracy *100\n",
    "print(f'Test Loss: {test_loss:.4f}')\n",
    "print(f'Test Accuracy: {test_accuracy_percent:.2f}%')"
   ]
  },
  {
   "cell_type": "code",
   "execution_count": 5,
   "id": "0bd81c61",
   "metadata": {},
   "outputs": [
    {
     "name": "stdout",
     "output_type": "stream",
     "text": [
      "Actual coordinates for image number 952:\n",
      "Start coordinates\n",
      "x_start: 23\n",
      "y_start: 45\n",
      "End coordinates\n",
      "x_end: 9\n",
      "y_end: 23\n",
      "\n",
      "\n",
      "Predictions for image number 952:\n",
      "Start coordinates\n",
      "x_start: 23\n",
      "y_start: 45\n",
      "End coordinates\n",
      "x_end: 7\n",
      "y_end: 25\n"
     ]
    }
   ],
   "source": [
    "# Model predictions\n",
    "# Picking random image\n",
    "random_index = np.random.randint(0, len(test_images))\n",
    "img = test_images[random_index]\n",
    "img = np.expand_dims(img, axis=0)\n",
    "\n",
    "# Making predictions\n",
    "predictions = model.predict(img)\n",
    "x_start_pred, y_start_pred, x_end_pred, y_end_pred = predictions[0]\n",
    "x_start_actual, y_start_actual, x_end_actual, y_end_actual = test_labels[random_index]\n",
    "\n",
    "# Comparing predictions to actual coordinates\n",
    "print(f\"Actual coordinates for image number {random_index}:\")\n",
    "print(\"Start coordinates\")\n",
    "print(\"x_start:\", x_start_actual)\n",
    "print(\"y_start:\", y_start_actual)\n",
    "print(\"End coordinates\")\n",
    "print(\"x_end:\", x_end_actual)\n",
    "print(\"y_end:\", y_end_actual)\n",
    "\n",
    "print('\\n')\n",
    "\n",
    "print(f\"Predictions for image number {random_index}:\")\n",
    "print(\"Start coordinates\")\n",
    "print(\"x_start:\", round(x_start_pred))\n",
    "print(\"y_start:\", round(y_start_pred))\n",
    "print(\"End coordinates\")\n",
    "print(\"x_end:\", round(x_end_pred))\n",
    "print(\"y_end:\", round(y_end_pred))"
   ]
  },
  {
   "cell_type": "code",
   "execution_count": null,
   "id": "da2c883d",
   "metadata": {},
   "outputs": [],
   "source": []
  }
 ],
 "metadata": {
  "kernelspec": {
   "display_name": "Python 3 (ipykernel)",
   "language": "python",
   "name": "python3"
  },
  "language_info": {
   "codemirror_mode": {
    "name": "ipython",
    "version": 3
   },
   "file_extension": ".py",
   "mimetype": "text/x-python",
   "name": "python",
   "nbconvert_exporter": "python",
   "pygments_lexer": "ipython3",
   "version": "3.9.7"
  }
 },
 "nbformat": 4,
 "nbformat_minor": 5
}
